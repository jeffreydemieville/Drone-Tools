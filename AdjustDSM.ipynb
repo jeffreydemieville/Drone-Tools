{
 "cells": [
  {
   "cell_type": "code",
   "execution_count": 1,
   "metadata": {},
   "outputs": [],
   "source": [
    "# This section can be uncommented if running on a system without required modules (e.g., UA HPC)\n",
    "'''import sys\n",
    "!{sys.executable} -m pip install rasterio'''\n",
    "\n",
    "import rasterio\n",
    "from rasterio.plot import show\n",
    "from rasterio.plot import show_hist\n",
    "import matplotlib.pyplot as plt\n",
    "import numpy as np\n",
    "from scipy import stats"
   ]
  },
  {
   "cell_type": "code",
   "execution_count": 2,
   "metadata": {},
   "outputs": [],
   "source": [
    "img_ref = \"05_13_2024_F120_Beans_P4_15m_RGB_dsm\"\n",
    "src_ref = rasterio.open(img_ref + \".tif\")\n",
    "arr_ref = src_ref.read(1)\n",
    "\n",
    "img_target = \"6_24_2024_F120_Bean_P4_15m_RGB_dsm\"\n",
    "src_target = rasterio.open(img_target+\".tif\")\n",
    "arr_target = src_target.read(1)"
   ]
  },
  {
   "cell_type": "code",
   "execution_count": null,
   "metadata": {},
   "outputs": [],
   "source": [
    "# Plot the histogram with the specified range\n",
    "plt.hist(arr_ref.flatten(), bins=20, range=(arr_ref.min(), arr_ref.max()))\n",
    "plt.title('Histogram of Pixel Values')\n",
    "plt.xlabel('Pixel Value')\n",
    "plt.ylabel('Frequency')\n",
    "plt.show()\n",
    "\n",
    "# Plot the histogram with the specified range\n",
    "plt.hist(arr_ref[arr_ref != -10000].flatten(), bins=20, range=(arr_ref[arr_ref != -10000].min(), arr_ref[arr_ref != -10000].max()))\n",
    "plt.title('Histogram of Pixel Values')\n",
    "plt.xlabel('Pixel Value')\n",
    "plt.ylabel('Frequency')\n",
    "plt.show()\n",
    "\n",
    "# It's clear there's still outliers\n",
    "# Calculate the quartiles\n",
    "q1 = np.percentile(arr_ref, 25)\n",
    "q3 = np.percentile(arr_ref, 75)\n",
    "\n",
    "# Compute the IQR\n",
    "iqr = q3 - q1\n",
    "\n",
    "# Define the outlier range\n",
    "lower_bound = q1 - 1.5 * iqr\n",
    "upper_bound = q3 + 1.5 * iqr\n",
    "\n",
    "# Filter outliers\n",
    "filtered_arr_ref = arr_ref[(arr_ref >= lower_bound) & (arr_ref <= upper_bound)]\n",
    "\n",
    "# Plot the histogram with the specified range\n",
    "plt.hist(filtered_arr_ref[filtered_arr_ref != -10000].flatten(), \n",
    "         bins=20, \n",
    "         range=(filtered_arr_ref[filtered_arr_ref != -10000].min(), \n",
    "                filtered_arr_ref[filtered_arr_ref != -10000].max()))\n",
    "plt.title('Histogram of Pixel Values')\n",
    "plt.xlabel('Pixel Value')\n",
    "plt.ylabel('Frequency')\n",
    "plt.show()"
   ]
  },
  {
   "cell_type": "code",
   "execution_count": null,
   "metadata": {},
   "outputs": [],
   "source": [
    "# Let's look at the same thing with the target flight\n",
    "\n",
    "# Plot the histogram with the specified range\n",
    "plt.hist(arr_target.flatten(), bins=20, range=(arr_target.min(), arr_target.max()))\n",
    "plt.title('Histogram of Pixel Values')\n",
    "plt.xlabel('Pixel Value')\n",
    "plt.ylabel('Frequency')\n",
    "plt.show()\n",
    "\n",
    "# Plot the histogram with the specified range\n",
    "plt.hist(arr_target[arr_target != -10000].flatten(), bins=20, range=(arr_target[arr_target != -10000].min(), arr_target[arr_target != -10000].max()))\n",
    "plt.title('Histogram of Pixel Values')\n",
    "plt.xlabel('Pixel Value')\n",
    "plt.ylabel('Frequency')\n",
    "plt.show()\n",
    "\n",
    "# It's clear there's still outliers\n",
    "# Calculate the quartiles\n",
    "q1 = np.percentile(arr_target, 25)\n",
    "q3 = np.percentile(arr_target, 75)\n",
    "\n",
    "# Compute the IQR\n",
    "iqr = q3 - q1\n",
    "\n",
    "# Define the outlier range\n",
    "lower_bound = q1 - 1.5 * iqr\n",
    "upper_bound = q3 + 1.5 * iqr\n",
    "\n",
    "# Filter outliers\n",
    "filtered_arr_target = arr_target[(arr_target >= lower_bound) & (arr_target <= upper_bound)]\n",
    "\n",
    "# Plot the histogram with the specified range\n",
    "plt.hist(filtered_arr_target[filtered_arr_target != -10000].flatten(), \n",
    "         bins=20, \n",
    "         range=(filtered_arr_target[filtered_arr_target != -10000].min(), \n",
    "                filtered_arr_target[filtered_arr_target != -10000].max()))\n",
    "plt.title('Histogram of Pixel Values')\n",
    "plt.xlabel('Pixel Value')\n",
    "plt.ylabel('Frequency')\n",
    "plt.show()"
   ]
  },
  {
   "cell_type": "code",
   "execution_count": null,
   "metadata": {},
   "outputs": [],
   "source": [
    "'''def filter_outliers_and_save(input_path, output_path, mask_value=-10000):\n",
    "    with rasterio.open(input_path) as src:\n",
    "        data = src.read(1)\n",
    "\n",
    "        # Create a mask for valid data\n",
    "        valid_data_mask = data != mask_value\n",
    "        valid_data = data[valid_data_mask]\n",
    "\n",
    "        # Calculate z-scores for valid data\n",
    "        z_scores = np.abs(stats.zscore(valid_data))\n",
    "\n",
    "        # Define a threshold for outliers\n",
    "        threshold = 3\n",
    "\n",
    "        # Identify outliers\n",
    "        outliers = z_scores > threshold\n",
    "\n",
    "        # Replace outliers with mask_value\n",
    "        data[valid_data_mask][outliers] = mask_value\n",
    "\n",
    "        # Write the result to a new file\n",
    "        with rasterio.open(\n",
    "            output_path,\n",
    "            'w',\n",
    "            driver='GTiff',\n",
    "            height=src.height,\n",
    "            width=src.width,\n",
    "            count=1,\n",
    "            dtype=data.dtype,\n",
    "            crs=src.crs,\n",
    "            transform=src.transform\n",
    "        ) as dst:\n",
    "            dst.write(data, 1)\n",
    "\n",
    "# Call the function with the input and output file paths\n",
    "filter_outliers_and_save('05_13_2024_F120_Beans_P4_15m_RGB_dsm.tif', 'bare_soil_filtered.tif')\n",
    "filter_outliers_and_save('6_24_2024_F120_Bean_P4_15m_RGB_dsm.tif', '6_64_filtered.tif')'''\n",
    "\n",
    "#these outputs don't correctly handle nodata cells (-10000), but are included in case the code is informative"
   ]
  },
  {
   "cell_type": "code",
   "execution_count": null,
   "metadata": {},
   "outputs": [],
   "source": [
    "# The above filtering doesn't do much to help other than show that outliers are present.\n",
    "# Let's look at the bare soil image\n",
    "show(src_ref)"
   ]
  },
  {
   "cell_type": "code",
   "execution_count": null,
   "metadata": {},
   "outputs": [],
   "source": [
    "# Let's look at the array read from the bare soil image\n",
    "plt.imshow(arr_ref)"
   ]
  },
  {
   "cell_type": "code",
   "execution_count": 3,
   "metadata": {},
   "outputs": [
    {
     "name": "stdout",
     "output_type": "stream",
     "text": [
      "The value read at this point is 361.793\n",
      "The expected value is 361.793\n",
      "The difference is -0.0\n"
     ]
    }
   ],
   "source": [
    "# Note that the array has different bounds\n",
    "\n",
    "# Let's now check the height reported in each DSM at a specified location. \n",
    "# To validate this, we can use the known GCP coordinates.\n",
    "# GCP #14 is at 408957.138, 3659550.914, 361.793\n",
    "\n",
    "x_position = 408957.138\n",
    "y_position = 3659550.914\n",
    "altitude = 361.793\n",
    "\n",
    "# Get the corresponding pixels\n",
    "py, px = src_ref.index(x_position, y_position)\n",
    "window = rasterio.windows.Window(px - 1//2, py - 1//2, 1, 1)\n",
    "clip = src_ref.read(window=window)\n",
    "print(\"The value read at this point is\", round(clip[0][0][0],3))\n",
    "print(\"The expected value is\", altitude)\n",
    "print(\"The difference is\", round(clip[0][0][0] - altitude,3))"
   ]
  },
  {
   "cell_type": "code",
   "execution_count": 4,
   "metadata": {},
   "outputs": [
    {
     "name": "stdout",
     "output_type": "stream",
     "text": [
      "The value read at this point is 361.814\n",
      "The expected value is 361.793\n",
      "The difference is 0.021\n"
     ]
    }
   ],
   "source": [
    "# Let's now check this point on the DSM that is not bare soil\n",
    "# Get the corresponding pixels\n",
    "py, px = src_target.index(x_position, y_position)\n",
    "window = rasterio.windows.Window(px - 1//2, py - 1//2, 1, 1)\n",
    "clip = src_target.read(window=window)\n",
    "print(\"The value read at this point is\", round(clip[0][0][0],3))\n",
    "print(\"The expected value is\", altitude)\n",
    "print(\"The difference is\", round(clip[0][0][0] - altitude,3))"
   ]
  },
  {
   "cell_type": "code",
   "execution_count": 5,
   "metadata": {},
   "outputs": [
    {
     "name": "stdout",
     "output_type": "stream",
     "text": [
      "The max of the input is 362.84256\n",
      "The min of the input is -10000.0\n",
      "The max of the output is 362.82138\n",
      "The min of the output is -10000.021\n",
      "The max of the output is 362.82138\n",
      "The min of the output is -10000.0\n"
     ]
    }
   ],
   "source": [
    "# Here we see that for the same geographic position, the DSM shows a height of 0.021 m above what is expected.\n",
    "# We want to shift all points that are not -10000 down by this value.\n",
    "print(\"The max of the input is\", arr_target.max())\n",
    "print(\"The min of the input is\", arr_target.min())\n",
    "\n",
    "arr_target_out = arr_target # set values the same initially\n",
    "arr_target_out = arr_target_out - (clip[0][0][0] - altitude)\n",
    "\n",
    "\n",
    "print(\"The max of the output is\", arr_target_out.max())\n",
    "print(\"The min of the output is\", arr_target_out.min())\n",
    "\n",
    "# Fix the nodata cells\n",
    "arr_target_out[arr_target_out<-10000] = -10000\n",
    "\n",
    "print(\"The max of the output is\", arr_target_out.max())\n",
    "print(\"The min of the output is\", arr_target_out.min())\n"
   ]
  },
  {
   "cell_type": "code",
   "execution_count": 7,
   "metadata": {},
   "outputs": [],
   "source": [
    "img_output = img_target + \"_adjusted.tif\"\n",
    "\n",
    "with rasterio.open(img_output, 'w', **src_target.profile) as dst:\n",
    "    dst.write(arr_target_out, indexes = 1)"
   ]
  },
  {
   "cell_type": "code",
   "execution_count": null,
   "metadata": {},
   "outputs": [],
   "source": []
  }
 ],
 "metadata": {
  "kernelspec": {
   "display_name": "Python 3",
   "language": "python",
   "name": "python3"
  },
  "language_info": {
   "codemirror_mode": {
    "name": "ipython",
    "version": 3
   },
   "file_extension": ".py",
   "mimetype": "text/x-python",
   "name": "python",
   "nbconvert_exporter": "python",
   "pygments_lexer": "ipython3",
   "version": "3.7.6"
  }
 },
 "nbformat": 4,
 "nbformat_minor": 4
}
