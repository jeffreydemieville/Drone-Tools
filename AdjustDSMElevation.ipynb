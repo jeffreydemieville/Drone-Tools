{
 "cells": [
  {
   "cell_type": "code",
   "execution_count": 19,
   "metadata": {},
   "outputs": [],
   "source": [
    "# This section can be uncommented if running on a system without required modules (e.g., UA HPC)\n",
    "'''import sys\n",
    "!{sys.executable} -m pip install rasterio'''\n",
    "\n",
    "import rasterio\n",
    "from rasterio.plot import show\n",
    "from rasterio.plot import show_hist\n",
    "import matplotlib.pyplot as plt\n",
    "import numpy as np\n",
    "from scipy import stats\n",
    "import csv\n",
    "from datetime import datetime"
   ]
  },
  {
   "cell_type": "code",
   "execution_count": 20,
   "metadata": {},
   "outputs": [],
   "source": [
    "# Read in the DSM\n",
    "img_ref = \"7_18_2024_Gantry_North_P4_15m_RGB_dsm.tif\"\n",
    "src_ref = rasterio.open(img_ref)\n",
    "arr_ref = src_ref.read(1)\n",
    "\n",
    "# Define output filenames\n",
    "img_output = img_ref + \"_adjusted.tif\"\n",
    "log_output = img_ref + \"_adjusted_log.txt\"\n",
    "\n",
    "with open(log_output, 'w') as output_file:\n",
    "    output_file.write(\"img_ref: \" + img_ref + \"\\n\")\n",
    "    output_file.write(\"img_output: \" + img_output + \"\\n\")\n",
    "    output_file.write(\"log_output: \" + log_output + \"\\n\")"
   ]
  },
  {
   "cell_type": "code",
   "execution_count": 21,
   "metadata": {},
   "outputs": [],
   "source": [
    "# Here you have two options to provide reference positions\n",
    "# You can either pass in a CSV or manually define the positions.\n",
    "# Whatever positions are used must be completely unobstructed at the center of the GCP to avoid skewing the results.\n",
    "# To be sure, check the RGB orthomosaic and ensure the GCP isn't obstructed.\n",
    "\n",
    "\n",
    "'''# Read in the CSV of GCP locations\n",
    "# Replace 'your_file.csv' with the actual filename\n",
    "csv_filename = 'your_file.csv'\n",
    "\n",
    "# Initialize empty lists for each column\n",
    "x = []\n",
    "y = []\n",
    "z = []\n",
    "\n",
    "with open(csv_filename, 'r') as csvfile:\n",
    "    reader = csv.reader(csvfile)\n",
    "    for row in reader:\n",
    "        # Assuming the second column is at index 1 (Python uses 0-based indexing)\n",
    "        x.append(float(row[1]))\n",
    "        # Third column (index 2)\n",
    "        y.append(float(row[2]))\n",
    "        # Fourth column (index 3)\n",
    "        z.append(float(row[3]))\n",
    "'''        \n",
    "\n",
    "# Manually define positions\n",
    "x = [408991.775, 408993.42, 409015.356]\n",
    "y = [3660202.957, 3660363.1, 3660202.363]\n",
    "z = [360.316, 360.348, 360.377]\n",
    "\n",
    "'''x = [408991.775, 408993.42, 409016.773, 409015.356]\n",
    "y = [3660202.957, 3660363.1, 3660362.973, 3660202.363]\n",
    "z = [360.316, 360.348, 360.324, 360.377]'''\n",
    "\n",
    "# GCPs 1-4 good through 2024-06-06; GCP 3 obstructed afterwards \n",
    "\n",
    "\n",
    "with open(log_output, 'a') as output_file:\n",
    "    output_file.write(\"x: \" + \"'\" + \"','\".join(map(str, x)) + \"'\" + \"\\n\")\n",
    "    output_file.write(\"y: \" + \"'\" + \"','\".join(map(str, y)) + \"'\" + \"\\n\")\n",
    "    output_file.write(\"z: \" + \"'\" + \"','\".join(map(str, z)) + \"'\" + \"\\n\")"
   ]
  },
  {
   "cell_type": "code",
   "execution_count": 22,
   "metadata": {},
   "outputs": [
    {
     "name": "stdout",
     "output_type": "stream",
     "text": [
      "The value read at this point is 360.369\n",
      "The expected value is 360.316\n",
      "The difference is 0.053\n",
      "The value read at this point is 360.309\n",
      "The expected value is 360.348\n",
      "The difference is -0.039\n",
      "The value read at this point is 360.393\n",
      "The expected value is 360.377\n",
      "The difference is 0.016\n",
      "On average, the value in the DSM is higher than expected by  0.01\n"
     ]
    }
   ],
   "source": [
    "diff = []\n",
    "\n",
    "# Get the corresponding pixels at each location\n",
    "for i in range(len(x)):\n",
    "    py, px = src_ref.index(x[i], y[i])\n",
    "    window = rasterio.windows.Window(px - 1//2, py - 1//2, 1, 1)\n",
    "    clip = src_ref.read(window=window)\n",
    "    print(\"The value read at this point is\", round(clip[0][0][0],3))\n",
    "    print(\"The expected value is\", z[i])\n",
    "    print(\"The difference is\", round(clip[0][0][0] - z[i],3))\n",
    "    diff.append(round(clip[0][0][0] - z[i],3))\n",
    "    \n",
    "mean_diff = np.mean(diff)\n",
    "if mean_diff < 0:\n",
    "    print(\"On average, the value in the DSM is lower than expected by \", abs(mean_diff))\n",
    "else:\n",
    "    print(\"On average, the value in the DSM is higher than expected by \", abs(mean_diff))\n",
    "    \n",
    "with open(log_output, 'a') as output_file:\n",
    "    # Write the result to the file\n",
    "    output_file.write(\"diffs: \" + \"'\" + \"','\".join(map(str, diff)) + \"'\" + \"\\n\")\n",
    "    output_file.write(\"mean_diff: \" + str(mean_diff) + \"\\n\")"
   ]
  },
  {
   "cell_type": "code",
   "execution_count": 23,
   "metadata": {},
   "outputs": [
    {
     "name": "stdout",
     "output_type": "stream",
     "text": [
      "The max of the input is 364.2312\n",
      "The min of the input is -10000.0\n",
      "The max of the output is 364.2212\n",
      "The min of the output is -10000.0\n"
     ]
    }
   ],
   "source": [
    "# We want to shift all points that are not -10000 down by this value.\n",
    "print(\"The max of the input is\", arr_ref.max())\n",
    "print(\"The min of the input is\", arr_ref.min())\n",
    "\n",
    "arr_ref_out = arr_ref # set values the same initially\n",
    "arr_ref_out = arr_ref - mean_diff\n",
    "\n",
    "# Fix the nodata cells\n",
    "arr_ref_out[arr_ref_out<-1000] = -10000\n",
    "\n",
    "print(\"The max of the output is\", arr_ref_out.max())\n",
    "print(\"The min of the output is\", arr_ref_out.min())\n",
    "\n",
    "\n",
    "with open(log_output, 'a') as output_file:\n",
    "    output_file.write(\"input max: \" + str(arr_ref.max()) + \"\\n\")\n",
    "    output_file.write(\"input min: \" + str(arr_ref.min()) + \"\\n\")\n",
    "    output_file.write(\"output max: \" + str(arr_ref_out.max()) + \"\\n\")\n",
    "    output_file.write(\"output min: \" + str(arr_ref_out.min()) + \"\\n\")"
   ]
  },
  {
   "cell_type": "code",
   "execution_count": 24,
   "metadata": {},
   "outputs": [],
   "source": [
    "with rasterio.open(img_output, 'w', **src_ref.profile) as dst:\n",
    "    dst.write(arr_ref_out, indexes = 1)\n",
    "    \n",
    "with open(log_output, 'a') as output_file:\n",
    "    output_file.write(\"completed: \" + str(datetime.now()) + \"\\n\")"
   ]
  },
  {
   "cell_type": "code",
   "execution_count": null,
   "metadata": {},
   "outputs": [],
   "source": []
  }
 ],
 "metadata": {
  "kernelspec": {
   "display_name": "Python 3",
   "language": "python",
   "name": "python3"
  },
  "language_info": {
   "codemirror_mode": {
    "name": "ipython",
    "version": 3
   },
   "file_extension": ".py",
   "mimetype": "text/x-python",
   "name": "python",
   "nbconvert_exporter": "python",
   "pygments_lexer": "ipython3",
   "version": "3.7.6"
  }
 },
 "nbformat": 4,
 "nbformat_minor": 4
}
